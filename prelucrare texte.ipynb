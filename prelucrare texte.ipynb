{
 "cells": [
  {
   "cell_type": "code",
   "execution_count": 3,
   "id": "short-backing",
   "metadata": {},
   "outputs": [
    {
     "name": "stdout",
     "output_type": "stream",
     "text": [
      "['welcome', 'to', 'great', 'learning', ',', 'now', 'start', 'learning']\n",
      "['learning', 'is', 'a', 'good', 'practice']\n",
      "['welcome', 'to', 'great', 'learning', ',', 'now', 'start', 'is', 'a', 'good', 'practice']\n",
      "['welcome', 'great', 'learning', 'now', 'start', 'good', 'practice']\n",
      "[1, 1, 2, 1, 1, 0, 0]\n",
      "[0, 0, 1, 0, 0, 1, 1]\n"
     ]
    }
   ],
   "source": [
    "def vectorize(tokens):\n",
    "    ''' Această funcție ia lista de cuvinte dintr-o propoziție ca intrare\n",
    "    și returnează un vector de dimensiunea filtered_vocab. Se pune 0 dacă\n",
    "    cuvântul nu este prezent în jetoane și numărul de jetoane dacă este prezent.'''\n",
    "    vector=[]\n",
    "    for w in filtered_vocab:\n",
    "        vector.append(tokens.count(w))\n",
    "    return vector\n",
    "def unique(sequence):\n",
    "    '''Această funcție returnează o listă în care rămâne ordinea\n",
    "    același și niciun element nu se repetă. Folosirea funcției set () nu\n",
    "    păstrez comanda originală, așa că nu am folosit-o în schimb'''\n",
    "    seen = set()\n",
    "    return [x for x in sequence if not (x in seen or seen.add(x))]\n",
    "#creaza o listă de cuvinte cheie. Puteți importa și cuvinte cheie din nltk\n",
    "stopwords=[\"to\",\"is\",\"a\"]\n",
    "#lista cu caractere speciale\n",
    "special_char=[\",\",\":\",\" \",\";\",\".\",\"?\"]\n",
    "#Scriem 2 propoziții în corpus\n",
    "string1=\"Welcome to Great Learning , Now start learning\"\n",
    "string2=\"Learning is a good practice\"\n",
    "#convertirea caracterelor în minuscule\n",
    "string1=string1.lower()\n",
    "string2=string2.lower()\n",
    "#împartirea frazele în jetoane\n",
    "tokens1=string1.split()\n",
    "tokens2=string2.split()\n",
    "print(tokens1)\n",
    "print(tokens2)\n",
    "#creați o listă de vocabular\n",
    "vocab=unique(tokens1+tokens2)\n",
    "print(vocab)\n",
    "#filtrează lista de vocabular\n",
    "filtered_vocab=[]\n",
    "for w in vocab: \n",
    "    if w not in stopwords and w not in special_char: \n",
    "        filtered_vocab.append(w)\n",
    "print(filtered_vocab)\n",
    "#converti propozițiile în vector\n",
    "vector1=vectorize(tokens1)\n",
    "print(vector1)\n",
    "vector2=vectorize(tokens2)\n",
    "print(vector2)"
   ]
  },
  {
   "cell_type": "code",
   "execution_count": null,
   "id": "corporate-hands",
   "metadata": {},
   "outputs": [],
   "source": []
  }
 ],
 "metadata": {
  "kernelspec": {
   "display_name": "Python 3",
   "language": "python",
   "name": "python3"
  },
  "language_info": {
   "codemirror_mode": {
    "name": "ipython",
    "version": 3
   },
   "file_extension": ".py",
   "mimetype": "text/x-python",
   "name": "python",
   "nbconvert_exporter": "python",
   "pygments_lexer": "ipython3",
   "version": "3.7.8"
  }
 },
 "nbformat": 4,
 "nbformat_minor": 5
}
