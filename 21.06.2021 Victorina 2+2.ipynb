{
 "cells": [
  {
   "cell_type": "code",
   "execution_count": null,
   "id": "abroad-petite",
   "metadata": {},
   "outputs": [],
   "source": [
    "#print out all elements with even index and odd value\n",
    "n=int(input(\"Introduceti n = \"))\n",
    "i=0\n",
    "w=0\n",
    "q=[]\n",
    "r=n\n",
    "while i!=n:\n",
    "        a=str(input('Introduceti valoarea elementului = '))\n",
    "        q.append(a)\n",
    "        i+=1\n",
    "print(q)\n",
    "while w!=r:\n",
    "    w+=1\n",
    "    if (w%2==0) and (w!=0):\n",
    "        if (int((q[w])))%2!=0:\n",
    "            print(q[w])"
   ]
  },
  {
   "cell_type": "code",
   "execution_count": null,
   "id": "stainless-marks",
   "metadata": {},
   "outputs": [],
   "source": []
  },
  {
   "cell_type": "code",
   "execution_count": null,
   "id": "declared-chuck",
   "metadata": {},
   "outputs": [],
   "source": []
  }
 ],
 "metadata": {
  "kernelspec": {
   "display_name": "Python 3",
   "language": "python",
   "name": "python3"
  },
  "language_info": {
   "codemirror_mode": {
    "name": "ipython",
    "version": 3
   },
   "file_extension": ".py",
   "mimetype": "text/x-python",
   "name": "python",
   "nbconvert_exporter": "python",
   "pygments_lexer": "ipython3",
   "version": "3.7.8"
  }
 },
 "nbformat": 4,
 "nbformat_minor": 5
}
