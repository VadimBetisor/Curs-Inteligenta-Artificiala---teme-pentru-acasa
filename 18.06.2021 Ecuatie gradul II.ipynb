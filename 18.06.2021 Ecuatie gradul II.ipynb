{
 "cells": [
  {
   "cell_type": "code",
   "execution_count": 2,
   "id": "mineral-kitchen",
   "metadata": {},
   "outputs": [
    {
     "name": "stdin",
     "output_type": "stream",
     "text": [
      "a= 2\n",
      "b= 3\n",
      "c= 1\n"
     ]
    },
    {
     "name": "stdout",
     "output_type": "stream",
     "text": [
      "S={ -1.0 ; -0.5 }\n"
     ]
    }
   ],
   "source": [
    "import math\n",
    "a=int(input(\"a=\"))\n",
    "b=int(input(\"b=\"))\n",
    "c=int(input(\"c=\"))\n",
    "if(a==0 and b==0 and c==0):\n",
    "    print(\"S=R, orice x\")\n",
    "elif(a==0 and b==0 and c!=0):\n",
    "    print(\"S=Vid, nu are soluții\")\n",
    "elif(a==0 and b!=0):\n",
    "    print(\"S={\",-(c/b),\"}\")\n",
    "elif(a>0 and b==0 and c<0):\n",
    "    print(\"S={\",-math.sqrt(-(c/a)),';',math.sqrt(-(c/a)),\"}\")\n",
    "elif(a<0 and b==0 and c>0):\n",
    "    print(\"S={\",-math.sqrt(-(c/a)),';',math.sqrt(-(c/a)),\"}\")\n",
    "elif(a<0 and b==0 and c<0):\n",
    "    print(\"S=Vid, nu are soluții\")\n",
    "elif(a>0 and b==0 and c>0):\n",
    "    print(\"S=Vid, nu are soluții\")\n",
    "else:\n",
    "    if(a+b+c==0):\n",
    "        print(\"S={\",1,';',c/a,\"}\")\n",
    "    else:\n",
    "        d=b**2-4*a*c\n",
    "        if(d<0):\n",
    "            print(\"S=Vid, nu are soluții\")\n",
    "        elif(d==0):\n",
    "            print(\"S={\",-(b/(2*a)),\"}\")\n",
    "        else:\n",
    "            print(\"S={\",(-b-math.sqrt(d))/(2*a),';',(-b+math.sqrt(d))/(2*a),\"}\")"
   ]
  },
  {
   "cell_type": "code",
   "execution_count": null,
   "id": "willing-conditioning",
   "metadata": {},
   "outputs": [],
   "source": []
  }
 ],
 "metadata": {
  "kernelspec": {
   "display_name": "Python 3",
   "language": "python",
   "name": "python3"
  },
  "language_info": {
   "codemirror_mode": {
    "name": "ipython",
    "version": 3
   },
   "file_extension": ".py",
   "mimetype": "text/x-python",
   "name": "python",
   "nbconvert_exporter": "python",
   "pygments_lexer": "ipython3",
   "version": "3.7.8"
  }
 },
 "nbformat": 4,
 "nbformat_minor": 5
}
