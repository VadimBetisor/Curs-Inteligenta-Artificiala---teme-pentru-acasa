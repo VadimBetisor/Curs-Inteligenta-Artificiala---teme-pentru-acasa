{
 "cells": [
  {
   "cell_type": "code",
   "execution_count": 3,
   "id": "distinct-constant",
   "metadata": {},
   "outputs": [
    {
     "name": "stdin",
     "output_type": "stream",
     "text": [
      "Introduceti textul=  skdjfpxsdjflsdnfskds656456\n"
     ]
    },
    {
     "name": "stdout",
     "output_type": "stream",
     "text": [
      "Nr de vocale =  0\n",
      "Nr de consoane =  20\n",
      "Nr de caractere speciale =  0\n",
      "Nr de cifre =  6\n",
      "Nr de litere mici =  20\n",
      "Nr de litere mari =  0\n"
     ]
    }
   ],
   "source": [
    "#se da un text sa se calculeze numarul\n",
    "\"\"\"vocalelor special_characters = \"\"!@#$%^&*()-+?_=,<>/\"\"\n",
    "consoanelor \n",
    "simbolurilor care nu sunt litere\n",
    "literelor mici\n",
    "literelor mari\n",
    "cifrelor\"\"\"\n",
    "vocale=0\n",
    "sp=0\n",
    "consoane=0\n",
    "cifre=0\n",
    "mici=0\n",
    "mari=0\n",
    "import string\n",
    "txt=str(input(\"Introduceti textul= \"))\n",
    "txtm=txt.lower()\n",
    "vow=[\"a\",\"o\",\"u\",\"e\",\"i\",\"A\",\"O\",\"U\",\"E\",\"I\"]\n",
    "spec=[\"!\",\"@\",\"#\",\"$\",\"%\",\"^\",\"&\",\"*\",\"(\",\")\",\"-\",\"+\",\"?\",\"_\",\"=\",\",\",\"<\",\">\",\"/\"]\n",
    "cif=[\"0\",\"1\",\"2\",\"3\",\"4\",\"5\",\"6\",\"7\",\"8\",\"9\"]\n",
    "for lit in txtm:\n",
    "    if lit in vow:\n",
    "        vocale+=1\n",
    "    elif lit in spec:\n",
    "        sp+=1\n",
    "for lit1 in txt:\n",
    "    if lit1 in string.ascii_uppercase:\n",
    "        mari+=1\n",
    "    if lit1 in string.ascii_lowercase:\n",
    "        mici+=1\n",
    "    if lit1 in cif:\n",
    "        cifre+=1\n",
    "for cs in txt:\n",
    "    if (cs not in vow) and (cs not in spec) and (cs not in cif) :\n",
    "        consoane+=1\n",
    "\n",
    "    \n",
    "    \n",
    "print('Nr de vocale = ',vocale)\n",
    "print('Nr de consoane = ',consoane)\n",
    "print('Nr de caractere speciale = ',sp)\n",
    "print('Nr de cifre = ',cifre)\n",
    "print('Nr de litere mici = ',mici)\n",
    "print('Nr de litere mari = ',mari)"
   ]
  },
  {
   "cell_type": "code",
   "execution_count": null,
   "id": "offensive-pastor",
   "metadata": {},
   "outputs": [],
   "source": []
  }
 ],
 "metadata": {
  "kernelspec": {
   "display_name": "Python 3",
   "language": "python",
   "name": "python3"
  },
  "language_info": {
   "codemirror_mode": {
    "name": "ipython",
    "version": 3
   },
   "file_extension": ".py",
   "mimetype": "text/x-python",
   "name": "python",
   "nbconvert_exporter": "python",
   "pygments_lexer": "ipython3",
   "version": "3.7.8"
  }
 },
 "nbformat": 4,
 "nbformat_minor": 5
}
