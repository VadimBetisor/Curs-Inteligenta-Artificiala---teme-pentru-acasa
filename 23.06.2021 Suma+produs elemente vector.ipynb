{
 "cells": [
  {
   "cell_type": "code",
   "execution_count": 2,
   "id": "enclosed-telephone",
   "metadata": {},
   "outputs": [
    {
     "name": "stdin",
     "output_type": "stream",
     "text": [
      "Introduceti numarul de elementen =  3\n",
      "Introduceti elementul =  4\n",
      "Introduceti elementul =  5\n",
      "Introduceti elementul =  9\n"
     ]
    },
    {
     "name": "stdout",
     "output_type": "stream",
     "text": [
      "Suma elementelor vectorului= 18\n",
      "Produsul elementelor vectorului= 180\n"
     ]
    }
   ],
   "source": [
    "#se da un vector cu n componente\n",
    "#sa se calculeze suma componentelor lui\n",
    "# produsul\n",
    "# n>=1 n<=100\n",
    "q=[]\n",
    "i=0\n",
    "s=0\n",
    "p=1\n",
    "n=int(input(\"Introduceti numarul de elementen = \"))\n",
    "if (n<1) or (n>100):\n",
    "    print('Eroare - valoare inadmisibila')\n",
    "else:\n",
    "    while i!=n:\n",
    "        a=str(input('Introduceti elementul = '))\n",
    "        q.extend(a)\n",
    "        i+=1\n",
    "for element in q:\n",
    "    s+=int(element)\n",
    "    p*=int(element)\n",
    "print('Suma elementelor vectorului=',s)\n",
    "print('Produsul elementelor vectorului=',p)"
   ]
  },
  {
   "cell_type": "code",
   "execution_count": null,
   "id": "thermal-princess",
   "metadata": {},
   "outputs": [],
   "source": []
  }
 ],
 "metadata": {
  "kernelspec": {
   "display_name": "Python 3",
   "language": "python",
   "name": "python3"
  },
  "language_info": {
   "codemirror_mode": {
    "name": "ipython",
    "version": 3
   },
   "file_extension": ".py",
   "mimetype": "text/x-python",
   "name": "python",
   "nbconvert_exporter": "python",
   "pygments_lexer": "ipython3",
   "version": "3.7.8"
  }
 },
 "nbformat": 4,
 "nbformat_minor": 5
}
