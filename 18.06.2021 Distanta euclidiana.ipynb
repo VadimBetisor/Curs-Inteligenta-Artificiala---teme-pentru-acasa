{
 "cells": [
  {
   "cell_type": "code",
   "execution_count": 1,
   "id": "overall-decision",
   "metadata": {},
   "outputs": [
    {
     "name": "stdin",
     "output_type": "stream",
     "text": [
      "x1= 2\n",
      "y1= 3\n",
      "x2= 3\n",
      "y2= 6\n"
     ]
    },
    {
     "name": "stdout",
     "output_type": "stream",
     "text": [
      "Distanta dintre puncte este = 3.1622776601683795\n"
     ]
    }
   ],
   "source": [
    "import math\n",
    "a=int(input(\"x1=\"))\n",
    "b=int(input(\"y1=\"))\n",
    "c=int(input(\"x2=\"))\n",
    "d=int(input(\"y2=\"))\n",
    "dist=math.sqrt(((a-c)*(a-c))+((b-d)*(b-d)))\n",
    "print('Distanta dintre puncte este =',dist)"
   ]
  },
  {
   "cell_type": "code",
   "execution_count": null,
   "id": "completed-gates",
   "metadata": {},
   "outputs": [],
   "source": []
  }
 ],
 "metadata": {
  "kernelspec": {
   "display_name": "Python 3",
   "language": "python",
   "name": "python3"
  },
  "language_info": {
   "codemirror_mode": {
    "name": "ipython",
    "version": 3
   },
   "file_extension": ".py",
   "mimetype": "text/x-python",
   "name": "python",
   "nbconvert_exporter": "python",
   "pygments_lexer": "ipython3",
   "version": "3.7.8"
  }
 },
 "nbformat": 4,
 "nbformat_minor": 5
}
